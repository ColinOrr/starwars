{
 "cells": [
  {
   "cell_type": "markdown",
   "metadata": {},
   "source": [
    "# StarWars API\n",
    "\n",
    "- Topics\n",
    "    - [Introduction](#introduction)\n",
    "    - [Status codes](#status-codes)\n",
    "- Resources\n",
    "    - [People](#people)\n",
    "    - [Planets](#planets)\n",
    "    - [Species](#species)\n",
    "    - [Starships](#starships)\n",
    "    - [Vehicles](#vehicles)"
   ]
  },
  {
   "cell_type": "markdown",
   "metadata": {},
   "source": [
    "\n",
    "## Introduction\n",
    "\n",
    "The StarWars API is organised around [REST](https://en.wikipedia.org/wiki/Representational_state_transfer). Each resource is accessed using a unique URL and we use built-in HTTP features like authentication headers, HTTP verbs and error codes, which are understood by off-the-shelf HTTP clients.\n",
    "\n",
    "All data is sent and received in [JSON](http://www.json.org/) format. When you make a request that returns a list of resources, then the response includes a \"summary\" representation of each resource (i.e. a subset of the attributes for that resource). The summary will contain a link to the \"detailed\" representation which typically includes all of the attributes. \n",
    "\n",
    "The examples in this guide use the following endpoint:"
   ]
  },
  {
   "cell_type": "code",
   "execution_count": 1,
   "metadata": {},
   "outputs": [
    {
     "name": "stdout",
     "output_type": "stream",
     "text": [
      "http://web:3000\n"
     ]
    }
   ],
   "source": [
    "export server=web:3000 && echo http://$server"
   ]
  },
  {
   "cell_type": "markdown",
   "metadata": {},
   "source": [
    "Feel free to try any of the sample requests against this environment."
   ]
  },
  {
   "cell_type": "markdown",
   "metadata": {},
   "source": [
    "\n",
    "## Status codes\n",
    "\n",
    "StarWars uses conventional HTTP response codes to indicate the success or failure of an API request. In general, codes in the `2xx` range indicate success, codes in the `4xx` range indicate a validation error with data that has been submitted, and codes in the `5xx` range indicate an error with the server (these are rare).\n",
    "\n",
    "Codes in the `3xx` range redirect to a different URL, they will be accompanied with a `Location` header which contains the target URL. Clients should assume that any request may result in a redirection.\n",
    "\n",
    "Codes              | &nbsp;\n",
    "-------------------|------------\n",
    "200 - OK           | Everything worked as expected.\n",
    "201 - Created      | A new resource was created, its URL provided in the `Location` header.\n",
    "302 - Found        | The request has been temporarily redirected to the URL in the `Location` header.\n",
    "400 - Bad Request  | The request was unacceptable, often due to missing parameters or validation errors.\n",
    "404 - Not Found    | The requested resource doesn't exist.\n",
    "500 - Server Error | Something unexpected went wrong on our end."
   ]
  },
  {
   "cell_type": "markdown",
   "metadata": {},
   "source": [
    "\n",
    "## People\n",
    "\n",
    "An individual person or character within the Star Wars universe.  The API allows you to retrieve an individual person via their unique ID, or list all of the people recorded in the system.\n",
    "\n",
    "[List people](#list-people) · [Retrieve a person](#retrieve-a-person) · [Retrieve a person's species](#retrieve-a-persons-species) · [Retrieve a person's homeworld](#retrieve-a-persons-homeworld) · [Retrieve a person's starships](#retrieve-a-persons-starships) · [Retrieve a person's vehicles](#retrieve-a-persons-vehicles)\n",
    "\n",
    "### List people\n",
    "\n",
    "Retrieves a list of people recorded in the system:\n",
    "\n",
    "```\n",
    "http://server/people\n",
    "    ?name={name}               # filters by the person's name using * as a wildcard\n",
    "    &birth_year={birth_year}   # filters by the person's birth year\n",
    "```\n",
    "\n",
    "List all people whose name ends with \"Skywalker\":"
   ]
  },
  {
   "cell_type": "code",
   "execution_count": 2,
   "metadata": {
    "scrolled": false
   },
   "outputs": [
    {
     "name": "stdout",
     "output_type": "stream",
     "text": [
      "[\n",
      "  {\n",
      "    \"name\": \"Luke Skywalker\",\n",
      "    \"gender\": \"male\",\n",
      "    \"birth_year\": \"19BBY\",\n",
      "    \"details_url\": \"http://web:3000/people/1\",\n",
      "    \"species_url\": \"http://web:3000/people/1/species\",\n",
      "    \"homeworld_url\": \"http://web:3000/people/1/homeworld\",\n",
      "    \"starships_url\": \"http://web:3000/people/1/starships\",\n",
      "    \"vehicles_url\": \"http://web:3000/people/1/vehicles\"\n",
      "  },\n",
      "  {\n",
      "    \"name\": \"Anakin Skywalker\",\n",
      "    \"gender\": \"male\",\n",
      "    \"birth_year\": \"41.9BBY\",\n",
      "    \"details_url\": \"http://web:3000/people/11\",\n",
      "    \"species_url\": \"http://web:3000/people/11/species\",\n",
      "    \"homeworld_url\": \"http://web:3000/people/11/homeworld\",\n",
      "    \"starships_url\": \"http://web:3000/people/11/starships\",\n",
      "    \"vehicles_url\": \"http://web:3000/people/11/vehicles\"\n",
      "  },\n",
      "  {\n",
      "    \"name\": \"Shmi Skywalker\",\n",
      "    \"gender\": \"female\",\n",
      "    \"birth_year\": \"72BBY\",\n",
      "    \"details_url\": \"http://web:3000/people/43\",\n",
      "    \"species_url\": \"http://web:3000/people/43/species\",\n",
      "    \"homeworld_url\": \"http://web:3000/people/43/homeworld\",\n",
      "    \"starships_url\": \"http://web:3000/people/43/starships\",\n",
      "    \"vehicles_url\": \"http://web:3000/people/43/vehicles\"\n",
      "  }\n",
      "]"
     ]
    }
   ],
   "source": [
    "curl \"http://$server/people?name=*Skywalker\""
   ]
  },
  {
   "cell_type": "markdown",
   "metadata": {},
   "source": [
    "List the people born in \"19BBY\":"
   ]
  },
  {
   "cell_type": "code",
   "execution_count": 3,
   "metadata": {
    "scrolled": false
   },
   "outputs": [
    {
     "name": "stdout",
     "output_type": "stream",
     "text": [
      "[\n",
      "  {\n",
      "    \"name\": \"Luke Skywalker\",\n",
      "    \"gender\": \"male\",\n",
      "    \"birth_year\": \"19BBY\",\n",
      "    \"details_url\": \"http://web:3000/people/1\",\n",
      "    \"species_url\": \"http://web:3000/people/1/species\",\n",
      "    \"homeworld_url\": \"http://web:3000/people/1/homeworld\",\n",
      "    \"starships_url\": \"http://web:3000/people/1/starships\",\n",
      "    \"vehicles_url\": \"http://web:3000/people/1/vehicles\"\n",
      "  },\n",
      "  {\n",
      "    \"name\": \"Leia Organa\",\n",
      "    \"gender\": \"female\",\n",
      "    \"birth_year\": \"19BBY\",\n",
      "    \"details_url\": \"http://web:3000/people/5\",\n",
      "    \"species_url\": \"http://web:3000/people/5/species\",\n",
      "    \"homeworld_url\": \"http://web:3000/people/5/homeworld\",\n",
      "    \"starships_url\": \"http://web:3000/people/5/starships\",\n",
      "    \"vehicles_url\": \"http://web:3000/people/5/vehicles\"\n",
      "  }\n",
      "]"
     ]
    }
   ],
   "source": [
    "curl \"http://$server/people?birth_year=19BBY\""
   ]
  },
  {
   "cell_type": "markdown",
   "metadata": {},
   "source": [
    "### Retrieve a person\n",
    "\n",
    "Retrieves a detailed view of an individual person.  The URL for the person can be found in the `details_url` attribute from the list above.\n"
   ]
  },
  {
   "cell_type": "code",
   "execution_count": 4,
   "metadata": {
    "scrolled": true
   },
   "outputs": [
    {
     "name": "stdout",
     "output_type": "stream",
     "text": [
      "{\n",
      "  \"id\": 1,\n",
      "  \"name\": \"Luke Skywalker\",\n",
      "  \"gender\": \"male\",\n",
      "  \"skin_color\": \"fair\",\n",
      "  \"hair_color\": \"blond\",\n",
      "  \"height\": \"172\",\n",
      "  \"eye_color\": \"blue\",\n",
      "  \"mass\": \"77\",\n",
      "  \"birth_year\": \"19BBY\"\n",
      "}"
     ]
    }
   ],
   "source": [
    "curl \"http://$server/people/1\""
   ]
  },
  {
   "cell_type": "markdown",
   "metadata": {},
   "source": [
    "### Retrieve a person's species\n",
    "\n",
    "Retrieves the details of a person's species.  The URL for the person can be found in the `species_url` attribute from the list above."
   ]
  },
  {
   "cell_type": "code",
   "execution_count": 5,
   "metadata": {
    "scrolled": true
   },
   "outputs": [
    {
     "name": "stdout",
     "output_type": "stream",
     "text": [
      "{\n",
      "  \"id\": 1,\n",
      "  \"name\": \"Human\",\n",
      "  \"classification\": \"mammal\",\n",
      "  \"designation\": \"sentient\",\n",
      "  \"eye_colors\": \"brown, blue, green, hazel, grey, amber\",\n",
      "  \"skin_colors\": \"caucasian, black, asian, hispanic\",\n",
      "  \"language\": \"Galactic Basic\",\n",
      "  \"hair_colors\": \"blonde, brown, black, red\",\n",
      "  \"homeworld\": 9,\n",
      "  \"average_lifespan\": \"120\",\n",
      "  \"average_height\": \"180\"\n",
      "}"
     ]
    }
   ],
   "source": [
    "curl \"http://$server/people/66/species\""
   ]
  },
  {
   "cell_type": "markdown",
   "metadata": {},
   "source": [
    "### Retrieve a person's homeworld\n",
    "\n",
    "Retrieves the details of a person's homeworld.  The URL can be found in the `homeworld_url` attribute from the list above."
   ]
  },
  {
   "cell_type": "code",
   "execution_count": 6,
   "metadata": {},
   "outputs": [
    {
     "name": "stdout",
     "output_type": "stream",
     "text": [
      "{\n",
      "  \"id\": 1,\n",
      "  \"name\": \"Tatooine\",\n",
      "  \"terrain\": \"desert\",\n",
      "  \"climate\": \"arid\",\n",
      "  \"surface_water\": \"1\",\n",
      "  \"diameter\": \"10465\",\n",
      "  \"rotation_period\": \"23\",\n",
      "  \"gravity\": \"1 standard\",\n",
      "  \"orbital_period\": \"304\",\n",
      "  \"population\": \"200000\"\n",
      "}"
     ]
    }
   ],
   "source": [
    "curl \"http://$server/people/1/homeworld\""
   ]
  },
  {
   "cell_type": "markdown",
   "metadata": {},
   "source": [
    "### Retrieve a person's starships\n",
    "\n",
    "Retrieves a list of starships that the person has piloted.  The URL can be found in the `starships_url` attribute from the list above."
   ]
  },
  {
   "cell_type": "code",
   "execution_count": 7,
   "metadata": {},
   "outputs": [
    {
     "name": "stdout",
     "output_type": "stream",
     "text": [
      "[\n",
      "  {\n",
      "    \"name\": \"X-wing\",\n",
      "    \"model\": \"T-65 X-wing\",\n",
      "    \"manufacturer\": \"Incom Corporation\",\n",
      "    \"url\": \"http://web:3000/starships/12\"\n",
      "  },\n",
      "  {\n",
      "    \"name\": \"Imperial shuttle\",\n",
      "    \"model\": \"Lambda-class T-4a shuttle\",\n",
      "    \"manufacturer\": \"Sienar Fleet Systems\",\n",
      "    \"url\": \"http://web:3000/starships/22\"\n",
      "  }\n",
      "]"
     ]
    }
   ],
   "source": [
    "curl \"http://$server/people/1/starships\""
   ]
  },
  {
   "cell_type": "markdown",
   "metadata": {},
   "source": [
    "### Retrieve a person's vehicles\n",
    "\n",
    "Retrieves a list of vehicles that the person has piloted. The URL can be found in the `vehicles_url` attribute from the list above."
   ]
  },
  {
   "cell_type": "code",
   "execution_count": 8,
   "metadata": {},
   "outputs": [
    {
     "name": "stdout",
     "output_type": "stream",
     "text": [
      "[\n",
      "  {\n",
      "    \"name\": \"Snowspeeder\",\n",
      "    \"model\": \"t-47 airspeeder\",\n",
      "    \"manufacturer\": \"Incom corporation\",\n",
      "    \"url\": \"http://web:3000/vehicles/14\"\n",
      "  },\n",
      "  {\n",
      "    \"name\": \"Imperial Speeder Bike\",\n",
      "    \"model\": \"74-Z speeder bike\",\n",
      "    \"manufacturer\": \"Aratech Repulsor Company\",\n",
      "    \"url\": \"http://web:3000/vehicles/30\"\n",
      "  }\n",
      "]"
     ]
    }
   ],
   "source": [
    "curl \"http://$server/people/1/vehicles\""
   ]
  },
  {
   "cell_type": "markdown",
   "metadata": {},
   "source": [
    "## Planets\n",
    "\n",
    "A large mass, planet or planetoid in the Star Wars Universe, at the time of 0 ABY. The API allows you to retrieve an individual planet via its unique ID, or list all of the planets recorded in the system.\n",
    "\n",
    "[List planets](#list-planets) · [Retrieve a planet](#retrieve-a-planet) · [Retrieve a planet's people](#retrieve-a-planets-people)\n",
    "\n",
    "### List planets\n",
    "\n",
    "Retrieves a list of planets recorded in the system:\n",
    "\n",
    "```\n",
    "http://server/planets\n",
    "    ?name={name}   # filters by the planet's name using * as a wildcard\n",
    "```\n",
    "\n",
    "List all planets whose name starts with \"Cor\":"
   ]
  },
  {
   "cell_type": "code",
   "execution_count": 9,
   "metadata": {
    "scrolled": true
   },
   "outputs": [
    {
     "name": "stdout",
     "output_type": "stream",
     "text": [
      "[\n",
      "  {\n",
      "    \"name\": \"Coruscant\",\n",
      "    \"terrain\": \"cityscape, mountains\",\n",
      "    \"climate\": \"temperate\",\n",
      "    \"details_url\": \"http://web:3000/planets/9\",\n",
      "    \"people_url\": \"http://web:3000/planets/9/people\"\n",
      "  },\n",
      "  {\n",
      "    \"name\": \"Corellia\",\n",
      "    \"terrain\": \"plains, urban, hills, forests\",\n",
      "    \"climate\": \"temperate\",\n",
      "    \"details_url\": \"http://web:3000/planets/22\",\n",
      "    \"people_url\": \"http://web:3000/planets/22/people\"\n",
      "  }\n",
      "]"
     ]
    }
   ],
   "source": [
    "curl \"http://$server/planets?name=Cor*\""
   ]
  },
  {
   "cell_type": "markdown",
   "metadata": {},
   "source": [
    "### Retrieve a planet\n",
    "\n",
    "Retrieves a detailed view of an individual planet. The URL for the planet can be found in the `details_url` attribute from the list above."
   ]
  },
  {
   "cell_type": "code",
   "execution_count": 10,
   "metadata": {
    "scrolled": true
   },
   "outputs": [
    {
     "name": "stdout",
     "output_type": "stream",
     "text": [
      "{\n",
      "  \"id\": 9,\n",
      "  \"name\": \"Coruscant\",\n",
      "  \"terrain\": \"cityscape, mountains\",\n",
      "  \"climate\": \"temperate\",\n",
      "  \"surface_water\": \"unknown\",\n",
      "  \"diameter\": \"12240\",\n",
      "  \"rotation_period\": \"24\",\n",
      "  \"gravity\": \"1 standard\",\n",
      "  \"orbital_period\": \"368\",\n",
      "  \"population\": \"1000000000000\"\n",
      "}"
     ]
    }
   ],
   "source": [
    "curl \"http://$server/planets/9\""
   ]
  },
  {
   "cell_type": "markdown",
   "metadata": {},
   "source": [
    "### Retrieve a planet's people\n",
    "\n",
    "Retrieves a list of people that come from a planet. The URL can be found in the `people_url` attribute from the list above."
   ]
  },
  {
   "cell_type": "code",
   "execution_count": 11,
   "metadata": {},
   "outputs": [
    {
     "name": "stdout",
     "output_type": "stream",
     "text": [
      "[\n",
      "  {\n",
      "    \"name\": \"Han Solo\",\n",
      "    \"gender\": \"male\",\n",
      "    \"birth_year\": \"29BBY\",\n",
      "    \"url\": \"http://web:3000/people/14\"\n",
      "  },\n",
      "  {\n",
      "    \"name\": \"Wedge Antilles\",\n",
      "    \"gender\": \"male\",\n",
      "    \"birth_year\": \"21BBY\",\n",
      "    \"url\": \"http://web:3000/people/18\"\n",
      "  }\n",
      "]"
     ]
    }
   ],
   "source": [
    "curl \"http://$server/planets/22/people\""
   ]
  },
  {
   "cell_type": "markdown",
   "metadata": {},
   "source": [
    "## Species\n",
    "\n",
    "A type of person or character within the Star Wars Universe. The API allows you to retrieve an individual species via its unique ID, or list all species recorded in the system.\n",
    "\n",
    "[List species](#list-species) · [Retrieve a species](#retrieve-a-species) · [Retrieve a species' people](#retrieve-a-species-people)\n",
    "\n",
    "### List species\n",
    "\n",
    "Retrieves a list of species recorded in the system:\n",
    "\n",
    "```\n",
    "http://server/species\n",
    "    ?name={name}   # filters by the species name using * as a wildcard\n",
    "```\n",
    "\n",
    "List all species whose name contains \"wo\":"
   ]
  },
  {
   "cell_type": "code",
   "execution_count": 12,
   "metadata": {
    "scrolled": true
   },
   "outputs": [
    {
     "name": "stdout",
     "output_type": "stream",
     "text": [
      "[\n",
      "  {\n",
      "    \"name\": \"Wookie\",\n",
      "    \"classification\": \"mammal\",\n",
      "    \"designation\": \"sentient\",\n",
      "    \"details_url\": \"http://web:3000/species/3\",\n",
      "    \"people_url\": \"http://web:3000/species/3/people\"\n",
      "  },\n",
      "  {\n",
      "    \"name\": \"Ewok\",\n",
      "    \"classification\": \"mammal\",\n",
      "    \"designation\": \"sentient\",\n",
      "    \"details_url\": \"http://web:3000/species/9\",\n",
      "    \"people_url\": \"http://web:3000/species/9/people\"\n",
      "  }\n",
      "]"
     ]
    }
   ],
   "source": [
    "curl \"http://$server/species?name=*wo*\""
   ]
  },
  {
   "cell_type": "markdown",
   "metadata": {},
   "source": [
    "### Retrieve a species\n",
    "\n",
    "Retrieves a detailed view of an individual species. The URL for the species can be found in the `details_url` attribute from the list above."
   ]
  },
  {
   "cell_type": "code",
   "execution_count": 13,
   "metadata": {
    "scrolled": true
   },
   "outputs": [
    {
     "name": "stdout",
     "output_type": "stream",
     "text": [
      "{\n",
      "  \"id\": 3,\n",
      "  \"name\": \"Wookie\",\n",
      "  \"classification\": \"mammal\",\n",
      "  \"designation\": \"sentient\",\n",
      "  \"eye_colors\": \"blue, green, yellow, brown, golden, red\",\n",
      "  \"skin_colors\": \"gray\",\n",
      "  \"language\": \"Shyriiwook\",\n",
      "  \"hair_colors\": \"black, brown\",\n",
      "  \"homeworld\": 14,\n",
      "  \"average_lifespan\": \"400\",\n",
      "  \"average_height\": \"210\"\n",
      "}"
     ]
    }
   ],
   "source": [
    "curl \"http://$server/species/3\""
   ]
  },
  {
   "cell_type": "markdown",
   "metadata": {},
   "source": [
    "### Retrieve a species' people\n",
    "\n",
    "Retrieves a list of people belonging to the species. The URL can be found in the `people_url` attribute from the list above."
   ]
  },
  {
   "cell_type": "code",
   "execution_count": 14,
   "metadata": {
    "scrolled": true
   },
   "outputs": [
    {
     "name": "stdout",
     "output_type": "stream",
     "text": [
      "[\n",
      "  {\n",
      "    \"name\": \"Chewbacca\",\n",
      "    \"gender\": \"male\",\n",
      "    \"birth_year\": \"200BBY\",\n",
      "    \"url\": \"http://web:3000/people/13\"\n",
      "  },\n",
      "  {\n",
      "    \"name\": \"Tarfful\",\n",
      "    \"gender\": \"male\",\n",
      "    \"birth_year\": \"unknown\",\n",
      "    \"url\": \"http://web:3000/people/80\"\n",
      "  }\n",
      "]"
     ]
    }
   ],
   "source": [
    "curl \"http://$server/species/3/people\""
   ]
  },
  {
   "cell_type": "markdown",
   "metadata": {},
   "source": [
    "## Starships\n",
    "\n",
    "A single transport craft that has hyperdrive capability. The API allows you to retrieve an individual starship via its unique ID, or list all of the starships recorded in the system.\n",
    "\n",
    "[List starships](#list-starships) · [Retrieve a starship](#retrieve-a-starship) · [Retrieve a starship's pilots](#retrieve-a-starships-pilots)\n",
    "\n",
    "### List starships\n",
    "\n",
    "Retrieves a list of starships recorded in the system:\n",
    "\n",
    "```\n",
    "http://server/starships\n",
    "    ?name={name}   # filters by the starship's name using * as a wildcard\n",
    "```\n",
    "\n",
    "List all starships whose name ends with \"wing\":"
   ]
  },
  {
   "cell_type": "code",
   "execution_count": 15,
   "metadata": {
    "scrolled": false
   },
   "outputs": [
    {
     "name": "stdout",
     "output_type": "stream",
     "text": [
      "[\n",
      "  {\n",
      "    \"name\": \"Y-wing\",\n",
      "    \"model\": \"BTL Y-wing\",\n",
      "    \"manufacturer\": \"Koensayr Manufacturing\",\n",
      "    \"details_url\": \"http://web:3000/starships/11\",\n",
      "    \"pilots_url\": \"http://web:3000/starships/11/pilots\"\n",
      "  },\n",
      "  {\n",
      "    \"name\": \"X-wing\",\n",
      "    \"model\": \"T-65 X-wing\",\n",
      "    \"manufacturer\": \"Incom Corporation\",\n",
      "    \"details_url\": \"http://web:3000/starships/12\",\n",
      "    \"pilots_url\": \"http://web:3000/starships/12/pilots\"\n",
      "  },\n",
      "  {\n",
      "    \"name\": \"A-wing\",\n",
      "    \"model\": \"RZ-1 A-wing Interceptor\",\n",
      "    \"manufacturer\": \"Alliance Underground Engineering, Incom Corporation\",\n",
      "    \"details_url\": \"http://web:3000/starships/28\",\n",
      "    \"pilots_url\": \"http://web:3000/starships/28/pilots\"\n",
      "  },\n",
      "  {\n",
      "    \"name\": \"B-wing\",\n",
      "    \"model\": \"A/SF-01 B-wing starfighter\",\n",
      "    \"manufacturer\": \"Slayn & Korpil\",\n",
      "    \"details_url\": \"http://web:3000/starships/29\",\n",
      "    \"pilots_url\": \"http://web:3000/starships/29/pilots\"\n",
      "  },\n",
      "  {\n",
      "    \"name\": \"V-wing\",\n",
      "    \"model\": \"Alpha-3 Nimbus-class V-wing starfighter\",\n",
      "    \"manufacturer\": \"Kuat Systems Engineering\",\n",
      "    \"details_url\": \"http://web:3000/starships/75\",\n",
      "    \"pilots_url\": \"http://web:3000/starships/75/pilots\"\n",
      "  }\n",
      "]"
     ]
    }
   ],
   "source": [
    "curl \"http://$server/starships?name=*wing\""
   ]
  },
  {
   "cell_type": "markdown",
   "metadata": {},
   "source": [
    "### Retrieve a starship\n",
    "\n",
    "Retrieves a detailed view of an individual starship. The URL for the vehicle can be found in the `details_url` attribute from the list above."
   ]
  },
  {
   "cell_type": "code",
   "execution_count": 16,
   "metadata": {
    "scrolled": true
   },
   "outputs": [
    {
     "name": "stdout",
     "output_type": "stream",
     "text": [
      "{\n",
      "  \"id\": 12,\n",
      "  \"name\": \"X-wing\",\n",
      "  \"model\": \"T-65 X-wing\",\n",
      "  \"manufacturer\": \"Incom Corporation\",\n",
      "  \"consumables\": \"1 week\",\n",
      "  \"cargo_capacity\": \"110\",\n",
      "  \"passengers\": \"0\",\n",
      "  \"max_atmosphering_speed\": \"1050\",\n",
      "  \"crew\": \"1\",\n",
      "  \"length\": \"12.5\",\n",
      "  \"cost_in_credits\": \"149999\",\n",
      "  \"MGLT\": \"100\",\n",
      "  \"starship_class\": \"Starfighter\",\n",
      "  \"hyperdrive_rating\": \"1.0\"\n",
      "}"
     ]
    }
   ],
   "source": [
    "curl \"http://$server/starships/12\""
   ]
  },
  {
   "cell_type": "markdown",
   "metadata": {},
   "source": [
    "### Retrieve a starship's pilots\n",
    "\n",
    "Retrieves a list of people who have piloted the starship. The URL can be found in the `pilots_url` attribute from the list above."
   ]
  },
  {
   "cell_type": "code",
   "execution_count": 17,
   "metadata": {
    "scrolled": true
   },
   "outputs": [
    {
     "name": "stdout",
     "output_type": "stream",
     "text": [
      "[\n",
      "  {\n",
      "    \"name\": \"Luke Skywalker\",\n",
      "    \"gender\": \"male\",\n",
      "    \"birth_year\": \"19BBY\",\n",
      "    \"url\": \"http://web:3000/people/1\"\n",
      "  },\n",
      "  {\n",
      "    \"name\": \"Biggs Darklighter\",\n",
      "    \"gender\": \"male\",\n",
      "    \"birth_year\": \"24BBY\",\n",
      "    \"url\": \"http://web:3000/people/9\"\n",
      "  },\n",
      "  {\n",
      "    \"name\": \"Wedge Antilles\",\n",
      "    \"gender\": \"male\",\n",
      "    \"birth_year\": \"21BBY\",\n",
      "    \"url\": \"http://web:3000/people/18\"\n",
      "  },\n",
      "  {\n",
      "    \"name\": \"Jek Tono Porkins\",\n",
      "    \"gender\": \"male\",\n",
      "    \"birth_year\": \"unknown\",\n",
      "    \"url\": \"http://web:3000/people/19\"\n",
      "  }\n",
      "]"
     ]
    }
   ],
   "source": [
    "curl \"http://$server/starships/12/pilots\""
   ]
  },
  {
   "cell_type": "markdown",
   "metadata": {},
   "source": [
    "## Vehicles\n",
    "\n",
    "A single transport craft that does not have hyperdrive capability. The API allows you to retrieve an individual vehicle via its unique ID, or list all of the vehicles recorded in the system.\n",
    "\n",
    "[List vehicles](#list-vehicles) · [Retrieve a vehicle](#retrieve-a-vehicle) · [Retrieve a vehicle's pilots](#retrieve-a-vehicles-pilots)\n",
    "\n",
    "### List vehicles\n",
    "\n",
    "Retrieves a list of vehicles recorded in the system:\n",
    "\n",
    "```\n",
    "http://server/vehicles\n",
    "    ?name={name}   # filters by the vehicle's name using * as a wildcard\n",
    "```\n",
    "\n",
    "List all vehicles whose name ends with \"bike\":"
   ]
  },
  {
   "cell_type": "code",
   "execution_count": 18,
   "metadata": {
    "scrolled": false
   },
   "outputs": [
    {
     "name": "stdout",
     "output_type": "stream",
     "text": [
      "[\n",
      "  {\n",
      "    \"name\": \"Imperial Speeder Bike\",\n",
      "    \"model\": \"74-Z speeder bike\",\n",
      "    \"manufacturer\": \"Aratech Repulsor Company\",\n",
      "    \"details_url\": \"http://web:3000/vehicles/30\",\n",
      "    \"pilots_url\": \"http://web:3000/vehicles/30/pilots\"\n",
      "  },\n",
      "  {\n",
      "    \"name\": \"Zephyr-G swoop bike\",\n",
      "    \"model\": \"Zephyr-G swoop bike\",\n",
      "    \"manufacturer\": \"Mobquet Swoops and Speeders\",\n",
      "    \"details_url\": \"http://web:3000/vehicles/44\",\n",
      "    \"pilots_url\": \"http://web:3000/vehicles/44/pilots\"\n",
      "  },\n",
      "  {\n",
      "    \"name\": \"Tsmeu-6 personal wheel bike\",\n",
      "    \"model\": \"Tsmeu-6 personal wheel bike\",\n",
      "    \"manufacturer\": \"Z-Gomot Ternbuell Guppat Corporation\",\n",
      "    \"details_url\": \"http://web:3000/vehicles/60\",\n",
      "    \"pilots_url\": \"http://web:3000/vehicles/60/pilots\"\n",
      "  }\n",
      "]"
     ]
    }
   ],
   "source": [
    "curl \"http://$server/vehicles?name=*bike\""
   ]
  },
  {
   "cell_type": "markdown",
   "metadata": {},
   "source": [
    "### Retrieve a vehicle\n",
    "\n",
    "Retrieves a detailed view of an individual vehicle. The URL for the vehicle can be found in the `details_url` attribute from the list above."
   ]
  },
  {
   "cell_type": "code",
   "execution_count": 19,
   "metadata": {
    "scrolled": true
   },
   "outputs": [
    {
     "name": "stdout",
     "output_type": "stream",
     "text": [
      "{\n",
      "  \"id\": 30,\n",
      "  \"name\": \"Imperial Speeder Bike\",\n",
      "  \"model\": \"74-Z speeder bike\",\n",
      "  \"manufacturer\": \"Aratech Repulsor Company\",\n",
      "  \"consumables\": \"1 day\",\n",
      "  \"cargo_capacity\": \"4\",\n",
      "  \"passengers\": \"1\",\n",
      "  \"max_atmosphering_speed\": \"360\",\n",
      "  \"crew\": \"1\",\n",
      "  \"length\": \"3\",\n",
      "  \"cost_in_credits\": \"8000\",\n",
      "  \"vehicle_class\": \"speeder\"\n",
      "}"
     ]
    }
   ],
   "source": [
    "curl \"http://$server/vehicles/30\""
   ]
  },
  {
   "cell_type": "markdown",
   "metadata": {},
   "source": [
    "### Retrieve a vehicle's pilots\n",
    "\n",
    "Retrieves a list of people who have piloted the vehicle. The URL can be found in the `pilots_url` attribute from the list above."
   ]
  },
  {
   "cell_type": "code",
   "execution_count": 20,
   "metadata": {
    "scrolled": true
   },
   "outputs": [
    {
     "name": "stdout",
     "output_type": "stream",
     "text": [
      "[\n",
      "  {\n",
      "    \"name\": \"Luke Skywalker\",\n",
      "    \"gender\": \"male\",\n",
      "    \"birth_year\": \"19BBY\",\n",
      "    \"url\": \"http://web:3000/people/1\"\n",
      "  },\n",
      "  {\n",
      "    \"name\": \"Leia Organa\",\n",
      "    \"gender\": \"female\",\n",
      "    \"birth_year\": \"19BBY\",\n",
      "    \"url\": \"http://web:3000/people/5\"\n",
      "  }\n",
      "]"
     ]
    }
   ],
   "source": [
    "curl \"http://$server/vehicles/30/pilots\""
   ]
  }
 ],
 "metadata": {
  "kernelspec": {
   "display_name": "Bash",
   "language": "bash",
   "name": "bash"
  },
  "language_info": {
   "codemirror_mode": "shell",
   "file_extension": ".sh",
   "mimetype": "text/x-sh",
   "name": "bash"
  }
 },
 "nbformat": 4,
 "nbformat_minor": 2
}
